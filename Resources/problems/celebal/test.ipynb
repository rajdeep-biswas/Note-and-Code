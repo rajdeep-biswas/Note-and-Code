{
 "cells": [
  {
   "cell_type": "code",
   "execution_count": 1,
   "id": "original-intranet",
   "metadata": {},
   "outputs": [],
   "source": [
    "# [(1, 2), (2, 3), (3, 1)]"
   ]
  },
  {
   "cell_type": "code",
   "execution_count": 9,
   "id": "russian-beach",
   "metadata": {},
   "outputs": [
    {
     "name": "stdout",
     "output_type": "stream",
     "text": [
      "not cyclic\n"
     ]
    }
   ],
   "source": [
    "ls = [(1, 2), (2, 3), (3, 1)]\n",
    "ls_1 = [(1, 2), (2, 3), (3, 1), (3, 4)]\n",
    "ls_2 = [(1, 2), (2, 3)]\n",
    "\n",
    "dc = {}\n",
    "\n",
    "for tup in ls_2:\n",
    "    dc[tup[0]] = tup[1]\n",
    "    \n",
    "check = True\n",
    "for item in dc:\n",
    "    if dc[item] not in dc:\n",
    "        check = False\n",
    "        \n",
    "print(\"cyclic\") if check else print(\"not cyclic\")"
   ]
  },
  {
   "cell_type": "code",
   "execution_count": 13,
   "id": "hourly-planner",
   "metadata": {},
   "outputs": [
    {
     "name": "stdout",
     "output_type": "stream",
     "text": [
      "[['eat', 'tea', 'ate'], ['tan', 'nat'], ['bat']]\n"
     ]
    }
   ],
   "source": [
    "\"\"\"\n",
    "Given an array of strings strs, group the anagrams together. You can return the answer in any order.\n",
    "An Anagram is a word or phrase formed by rearranging the letters of a different word or phrase, typically using all the original letters exactly once.\n",
    "\n",
    "Input: strs = [\"eat\",\"tea\",\"tan\",\"ate\",\"nat\",\"bat\"]\n",
    "Output: [[\"bat\"],[\"nat\",\"tan\"],[\"ate\",\"eat\",\"tea\"]]\n",
    "\"\"\"\n",
    "\n",
    "ls = [\"eat\",\"tea\",\"tan\",\"ate\",\"nat\",\"bat\"]\n",
    "anags = []\n",
    "\n",
    "for item in ls:\n",
    "    anag = []\n",
    "    for item_2 in ls:\n",
    "        if sorted(item) == sorted(item_2):\n",
    "            anag.append(item_2)\n",
    "    if anag not in anags:\n",
    "        anags.append(anag)\n",
    "    \n",
    "print(anags)"
   ]
  },
  {
   "cell_type": "code",
   "execution_count": 21,
   "id": "played-spare",
   "metadata": {},
   "outputs": [],
   "source": [
    "ls = [\"eat\",\"tea\",\"tan\",\"ate\",\"nat\",\"bat\"]\n",
    "anags = {}\n",
    "\n",
    "for item in ls:\n",
    "    anags[''.join(sorted(item))] = []\n",
    "    \n",
    "for item in ls:\n",
    "    anags[''.join(sorted(item))].append(item)"
   ]
  },
  {
   "cell_type": "code",
   "execution_count": 22,
   "id": "technological-chain",
   "metadata": {},
   "outputs": [
    {
     "data": {
      "text/plain": [
       "{'aet': ['eat', 'tea', 'ate'], 'ant': ['tan', 'nat'], 'abt': ['bat']}"
      ]
     },
     "execution_count": 22,
     "metadata": {},
     "output_type": "execute_result"
    }
   ],
   "source": [
    "anags"
   ]
  },
  {
   "cell_type": "code",
   "execution_count": null,
   "id": "decimal-desert",
   "metadata": {},
   "outputs": [],
   "source": []
  }
 ],
 "metadata": {
  "kernelspec": {
   "display_name": "Python 3",
   "language": "python",
   "name": "python3"
  },
  "language_info": {
   "codemirror_mode": {
    "name": "ipython",
    "version": 3
   },
   "file_extension": ".py",
   "mimetype": "text/x-python",
   "name": "python",
   "nbconvert_exporter": "python",
   "pygments_lexer": "ipython3",
   "version": "3.7.0"
  }
 },
 "nbformat": 4,
 "nbformat_minor": 5
}
