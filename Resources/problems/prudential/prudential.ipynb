{
  "nbformat": 4,
  "nbformat_minor": 0,
  "metadata": {
    "colab": {
      "provenance": []
    },
    "kernelspec": {
      "name": "python3",
      "display_name": "Python 3"
    },
    "language_info": {
      "name": "python"
    }
  },
  "cells": [
    {
      "cell_type": "code",
      "execution_count": 33,
      "metadata": {
        "id": "uSd_1Av2IGan"
      },
      "outputs": [],
      "source": [
        "# integer x - find sqrt rounded down\n",
        "# cannot use ** 2 or sqrt()\n",
        "\n",
        "def custom_sqrt(n):\n",
        "\n",
        "  if n == 1 or n == 0:\n",
        "    return n\n",
        "\n",
        "  l = 1\n",
        "  r = n + 1\n",
        "\n",
        "  while l < r - 1:\n",
        "    m = (l + r) // 2\n",
        "    if m * m < n:\n",
        "      l = m\n",
        "    elif m * m > n:\n",
        "      r = m\n",
        "    else:\n",
        "      return m\n",
        "\n",
        "  return l"
      ]
    },
    {
      "cell_type": "code",
      "source": [
        "print(custom_sqrt(36))"
      ],
      "metadata": {
        "colab": {
          "base_uri": "https://localhost:8080/"
        },
        "id": "gqqVHYpAJosx",
        "outputId": "173ac048-1863-48f4-eb27-0b3dee7c8df5"
      },
      "execution_count": 42,
      "outputs": [
        {
          "output_type": "stream",
          "name": "stdout",
          "text": [
            "6\n"
          ]
        }
      ]
    },
    {
      "cell_type": "code",
      "source": [
        "EMPID, SALARY\n",
        "\n",
        "print 3rd highest salary\n",
        "\n",
        "SELECT EMPID, SALARY FROM TABLENAME WHERE SALARY = (SELECT DISINCT TOP 3 SALARY FROM TABLENAME ORDER BY SALARY DESC OFFSET 2 ROWS FETCH NEXT 1 ROWS ONLY);"
      ],
      "metadata": {
        "id": "n4VArVOOJqpv"
      },
      "execution_count": null,
      "outputs": []
    },
    {
      "cell_type": "markdown",
      "source": [
        "customer complaint / query emails come in into a system\n",
        "automate: reply to these emails\n",
        "if serious complaints come, forward it to appropriate department (find department tag)\n",
        "\n",
        "input(complaint text) > severity_scorer() returns score\n",
        "if score > <threshold>:\n",
        "  department_id = identify_department(text, departments = [finance, marketing, tech])\n",
        "  send_forward(complaint_id, department_id)\n",
        "else:\n",
        "  generate_reply(text) // RAG"
      ],
      "metadata": {
        "id": "z1Esf_1oOoFs"
      }
    }
  ]
}