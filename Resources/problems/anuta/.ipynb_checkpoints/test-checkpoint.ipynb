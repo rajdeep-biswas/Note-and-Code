{
 "cells": [
  {
   "cell_type": "code",
   "execution_count": 1,
   "id": "announced-ordinance",
   "metadata": {},
   "outputs": [
    {
     "data": {
      "text/plain": [
       "'\\ninput = \"hello_world_example\"   \\noutput = \"HelloWorldExample\" \\n'"
      ]
     },
     "execution_count": 1,
     "metadata": {},
     "output_type": "execute_result"
    }
   ],
   "source": [
    "\"\"\"\n",
    "input = \"hello_world_example\"   \n",
    "output = \"HelloWorldExample\" \n",
    "\"\"\""
   ]
  },
  {
   "cell_type": "code",
   "execution_count": 15,
   "id": "featured-poison",
   "metadata": {},
   "outputs": [],
   "source": [
    "def convert(string):\n",
    "    return ''.join([string.capitalize() for string in string.split('_')])"
   ]
  },
  {
   "cell_type": "code",
   "execution_count": 16,
   "id": "going-netherlands",
   "metadata": {},
   "outputs": [
    {
     "name": "stdout",
     "output_type": "stream",
     "text": [
      "HelloWorldExample\n"
     ]
    }
   ],
   "source": [
    "input_1 = \"hello_world_example\"\n",
    "print(convert(input_1))"
   ]
  },
  {
   "cell_type": "code",
   "execution_count": 18,
   "id": "advanced-thursday",
   "metadata": {},
   "outputs": [
    {
     "data": {
      "text/plain": [
       "'\\ninput = \"aabbbccaasss\"\\noutput = \"abcas\"\\n'"
      ]
     },
     "execution_count": 18,
     "metadata": {},
     "output_type": "execute_result"
    }
   ],
   "source": [
    "\"\"\"\n",
    "input = \"aabbbccaasss\"\n",
    "output = \"abcas\"\n",
    "\"\"\""
   ]
  },
  {
   "cell_type": "code",
   "execution_count": 45,
   "id": "economic-carnival",
   "metadata": {},
   "outputs": [],
   "source": [
    "def shorten(string):\n",
    "    st = ''\n",
    "    for i in range(len(string) - 1):\n",
    "        if string[i] != string[i + 1]:\n",
    "            st += string[i]\n",
    "    st += string[-1]\n",
    "    return st"
   ]
  },
  {
   "cell_type": "code",
   "execution_count": 47,
   "id": "chinese-strain",
   "metadata": {},
   "outputs": [
    {
     "name": "stdout",
     "output_type": "stream",
     "text": [
      "abcasa\n"
     ]
    }
   ],
   "source": [
    "input_1 = \"aabbbccaasssa\"\n",
    "print(shorten(input_1))"
   ]
  },
  {
   "cell_type": "code",
   "execution_count": 183,
   "id": "portable-weight",
   "metadata": {},
   "outputs": [],
   "source": [
    "param_dict = {          \n",
    "   'a': 1,\n",
    "   'b': 2,\n",
    "   'c': '',\n",
    "   'e': 5,\n",
    "   'd': {\n",
    "      'p': 3,\n",
    "      'q': '4',\n",
    "      'r': '',\n",
    "      's': {\n",
    "         'x': 6,\n",
    "         'y': ''\n",
    "      }\n",
    "   }\n",
    "}"
   ]
  },
  {
   "cell_type": "code",
   "execution_count": 184,
   "id": "arbitrary-midwest",
   "metadata": {},
   "outputs": [],
   "source": [
    "param_dict_cleaned = {}"
   ]
  },
  {
   "cell_type": "code",
   "execution_count": 185,
   "id": "complimentary-hometown",
   "metadata": {},
   "outputs": [],
   "source": [
    "def clean_dict(param_dict, key_series):\n",
    "    for key in param_dict:\n",
    "        if param_dict[key]:\n",
    "            if 'dict' in str(type(param_dict[key])):\n",
    "                key_series.append(key)\n",
    "                clean_dict(param_dict[key], key_series)\n",
    "            param_dict_cleaned[key] = param_dict[key]"
   ]
  },
  {
   "cell_type": "code",
   "execution_count": 186,
   "id": "needed-sarah",
   "metadata": {},
   "outputs": [
    {
     "data": {
      "text/plain": [
       "{'a': 1,\n",
       " 'b': 2,\n",
       " 'c': '',\n",
       " 'e': 5,\n",
       " 'd': {'p': 3, 'q': '4', 'r': '', 's': {'x': 6, 'y': ''}}}"
      ]
     },
     "execution_count": 186,
     "metadata": {},
     "output_type": "execute_result"
    }
   ],
   "source": [
    "param_dict"
   ]
  },
  {
   "cell_type": "code",
   "execution_count": 187,
   "id": "alone-witness",
   "metadata": {},
   "outputs": [],
   "source": [
    "param_dict = clean_dict(param_dict, [])"
   ]
  },
  {
   "cell_type": "code",
   "execution_count": 188,
   "id": "revised-agreement",
   "metadata": {},
   "outputs": [
    {
     "data": {
      "text/plain": [
       "{'a': 1,\n",
       " 'b': 2,\n",
       " 'e': 5,\n",
       " 'p': 3,\n",
       " 'q': '4',\n",
       " 'x': 6,\n",
       " 's': {'x': 6, 'y': ''},\n",
       " 'd': {'p': 3, 'q': '4', 'r': '', 's': {'x': 6, 'y': ''}}}"
      ]
     },
     "execution_count": 188,
     "metadata": {},
     "output_type": "execute_result"
    }
   ],
   "source": [
    "param_dict_cleaned"
   ]
  },
  {
   "cell_type": "code",
   "execution_count": null,
   "id": "greenhouse-machine",
   "metadata": {},
   "outputs": [],
   "source": []
  }
 ],
 "metadata": {
  "kernelspec": {
   "display_name": "Python 3",
   "language": "python",
   "name": "python3"
  },
  "language_info": {
   "codemirror_mode": {
    "name": "ipython",
    "version": 3
   },
   "file_extension": ".py",
   "mimetype": "text/x-python",
   "name": "python",
   "nbconvert_exporter": "python",
   "pygments_lexer": "ipython3",
   "version": "3.7.0"
  }
 },
 "nbformat": 4,
 "nbformat_minor": 5
}
