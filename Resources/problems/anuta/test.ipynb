{
 "cells": [
  {
   "cell_type": "code",
   "execution_count": 1,
   "id": "floating-diameter",
   "metadata": {},
   "outputs": [
    {
     "data": {
      "text/plain": [
       "'\\ninput = \"hello_world_example\"   \\noutput = \"HelloWorldExample\" \\n'"
      ]
     },
     "execution_count": 1,
     "metadata": {},
     "output_type": "execute_result"
    }
   ],
   "source": [
    "\"\"\"\n",
    "input = \"hello_world_example\"   \n",
    "output = \"HelloWorldExample\" \n",
    "\"\"\""
   ]
  },
  {
   "cell_type": "code",
   "execution_count": 15,
   "id": "enormous-newcastle",
   "metadata": {},
   "outputs": [],
   "source": [
    "def convert(string):\n",
    "    return ''.join([string.capitalize() for string in string.split('_')])"
   ]
  },
  {
   "cell_type": "code",
   "execution_count": 16,
   "id": "administrative-olive",
   "metadata": {},
   "outputs": [
    {
     "name": "stdout",
     "output_type": "stream",
     "text": [
      "HelloWorldExample\n"
     ]
    }
   ],
   "source": [
    "input_1 = \"hello_world_example\"\n",
    "print(convert(input_1))"
   ]
  },
  {
   "cell_type": "code",
   "execution_count": 18,
   "id": "solid-affairs",
   "metadata": {},
   "outputs": [
    {
     "data": {
      "text/plain": [
       "'\\ninput = \"aabbbccaasss\"\\noutput = \"abcas\"\\n'"
      ]
     },
     "execution_count": 18,
     "metadata": {},
     "output_type": "execute_result"
    }
   ],
   "source": [
    "\"\"\"\n",
    "input = \"aabbbccaasss\"\n",
    "output = \"abcas\"\n",
    "\"\"\""
   ]
  },
  {
   "cell_type": "code",
   "execution_count": 45,
   "id": "after-multiple",
   "metadata": {},
   "outputs": [],
   "source": [
    "def shorten(string):\n",
    "    st = ''\n",
    "    for i in range(len(string) - 1):\n",
    "        if string[i] != string[i + 1]:\n",
    "            st += string[i]\n",
    "    st += string[-1]\n",
    "    return st"
   ]
  },
  {
   "cell_type": "code",
   "execution_count": 47,
   "id": "fifteen-dairy",
   "metadata": {},
   "outputs": [
    {
     "name": "stdout",
     "output_type": "stream",
     "text": [
      "abcasa\n"
     ]
    }
   ],
   "source": [
    "input_1 = \"aabbbccaasssa\"\n",
    "print(shorten(input_1))"
   ]
  },
  {
   "cell_type": "code",
   "execution_count": 183,
   "id": "promising-deposit",
   "metadata": {},
   "outputs": [],
   "source": [
    "param_dict = {          \n",
    "   'a': 1,\n",
    "   'b': 2,\n",
    "   'c': '',\n",
    "   'e': 5,\n",
    "   'd': {\n",
    "      'p': 3,\n",
    "      'q': '4',\n",
    "      'r': '',\n",
    "      's': {\n",
    "         'x': 6,\n",
    "         'y': ''\n",
    "      }\n",
    "   }\n",
    "}"
   ]
  },
  {
   "cell_type": "code",
   "execution_count": 184,
   "id": "interstate-anchor",
   "metadata": {},
   "outputs": [],
   "source": [
    "param_dict_cleaned = {}"
   ]
  },
  {
   "cell_type": "code",
   "execution_count": 185,
   "id": "suburban-barcelona",
   "metadata": {},
   "outputs": [],
   "source": [
    "def clean_dict(param_dict, key_series):\n",
    "    for key in param_dict:\n",
    "        if param_dict[key]:\n",
    "            if 'dict' in str(type(param_dict[key])):\n",
    "                key_series.append(key)\n",
    "                clean_dict(param_dict[key], key_series)\n",
    "            param_dict_cleaned[key] = param_dict[key]"
   ]
  },
  {
   "cell_type": "code",
   "execution_count": 186,
   "id": "placed-marketing",
   "metadata": {},
   "outputs": [
    {
     "data": {
      "text/plain": [
       "{'a': 1,\n",
       " 'b': 2,\n",
       " 'c': '',\n",
       " 'e': 5,\n",
       " 'd': {'p': 3, 'q': '4', 'r': '', 's': {'x': 6, 'y': ''}}}"
      ]
     },
     "execution_count": 186,
     "metadata": {},
     "output_type": "execute_result"
    }
   ],
   "source": [
    "param_dict"
   ]
  },
  {
   "cell_type": "code",
   "execution_count": 187,
   "id": "ecological-baseline",
   "metadata": {},
   "outputs": [],
   "source": [
    "param_dict = clean_dict(param_dict, [])"
   ]
  },
  {
   "cell_type": "code",
   "execution_count": 188,
   "id": "difficult-robin",
   "metadata": {},
   "outputs": [
    {
     "data": {
      "text/plain": [
       "{'a': 1,\n",
       " 'b': 2,\n",
       " 'e': 5,\n",
       " 'p': 3,\n",
       " 'q': '4',\n",
       " 'x': 6,\n",
       " 's': {'x': 6, 'y': ''},\n",
       " 'd': {'p': 3, 'q': '4', 'r': '', 's': {'x': 6, 'y': ''}}}"
      ]
     },
     "execution_count": 188,
     "metadata": {},
     "output_type": "execute_result"
    }
   ],
   "source": [
    "param_dict_cleaned"
   ]
  },
  {
   "cell_type": "code",
   "execution_count": 198,
   "id": "yellow-rhythm",
   "metadata": {},
   "outputs": [],
   "source": [
    "class Parent():\n",
    "    data = -1\n",
    "    \n",
    "    def __init__(self, data):\n",
    "        self.data = data\n",
    "        \n",
    "    def parent(self):\n",
    "        print(\"i am the parent\")\n",
    "        \n",
    "        \n",
    "class Child(Parent):\n",
    "    \n",
    "    data = -2\n",
    "    \n",
    "    def __init__(self, data):\n",
    "        self.data = super(data)\n",
    "        print(self.data)"
   ]
  },
  {
   "cell_type": "code",
   "execution_count": 199,
   "id": "palestinian-confidentiality",
   "metadata": {},
   "outputs": [],
   "source": [
    "p = Parent(1)"
   ]
  },
  {
   "cell_type": "code",
   "execution_count": 200,
   "id": "loose-patch",
   "metadata": {},
   "outputs": [
    {
     "ename": "TypeError",
     "evalue": "super() argument 1 must be type, not int",
     "output_type": "error",
     "traceback": [
      "\u001b[0;31m---------------------------------------------------------------------------\u001b[0m",
      "\u001b[0;31mTypeError\u001b[0m                                 Traceback (most recent call last)",
      "\u001b[0;32m<ipython-input-200-a9d67069b6cb>\u001b[0m in \u001b[0;36m<module>\u001b[0;34m\u001b[0m\n\u001b[0;32m----> 1\u001b[0;31m \u001b[0mc\u001b[0m \u001b[0;34m=\u001b[0m \u001b[0mChild\u001b[0m\u001b[0;34m(\u001b[0m\u001b[0;36m1\u001b[0m\u001b[0;34m)\u001b[0m\u001b[0;34m.\u001b[0m\u001b[0mparent\u001b[0m\u001b[0;34m(\u001b[0m\u001b[0;34m)\u001b[0m\u001b[0;34m\u001b[0m\u001b[0m\n\u001b[0m",
      "\u001b[0;32m<ipython-input-198-808a5b1a1ed8>\u001b[0m in \u001b[0;36m__init__\u001b[0;34m(self, data)\u001b[0m\n\u001b[1;32m     14\u001b[0m \u001b[0;34m\u001b[0m\u001b[0m\n\u001b[1;32m     15\u001b[0m     \u001b[0;32mdef\u001b[0m \u001b[0m__init__\u001b[0m\u001b[0;34m(\u001b[0m\u001b[0mself\u001b[0m\u001b[0;34m,\u001b[0m \u001b[0mdata\u001b[0m\u001b[0;34m)\u001b[0m\u001b[0;34m:\u001b[0m\u001b[0;34m\u001b[0m\u001b[0m\n\u001b[0;32m---> 16\u001b[0;31m         \u001b[0mself\u001b[0m\u001b[0;34m.\u001b[0m\u001b[0mdata\u001b[0m \u001b[0;34m=\u001b[0m \u001b[0msuper\u001b[0m\u001b[0;34m(\u001b[0m\u001b[0mdata\u001b[0m\u001b[0;34m)\u001b[0m\u001b[0;34m\u001b[0m\u001b[0m\n\u001b[0m\u001b[1;32m     17\u001b[0m         \u001b[0mprint\u001b[0m\u001b[0;34m(\u001b[0m\u001b[0mself\u001b[0m\u001b[0;34m.\u001b[0m\u001b[0mdata\u001b[0m\u001b[0;34m)\u001b[0m\u001b[0;34m\u001b[0m\u001b[0m\n",
      "\u001b[0;31mTypeError\u001b[0m: super() argument 1 must be type, not int"
     ]
    }
   ],
   "source": [
    "c = Child(1).parent()"
   ]
  },
  {
   "cell_type": "code",
   "execution_count": 201,
   "id": "automotive-charge",
   "metadata": {},
   "outputs": [
    {
     "ename": "SyntaxError",
     "evalue": "invalid syntax (<ipython-input-201-4a758c0edfd7>, line 1)",
     "output_type": "error",
     "traceback": [
      "\u001b[0;36m  File \u001b[0;32m\"<ipython-input-201-4a758c0edfd7>\"\u001b[0;36m, line \u001b[0;32m1\u001b[0m\n\u001b[0;31m    def method(string, typeof=None)\u001b[0m\n\u001b[0m                                   ^\u001b[0m\n\u001b[0;31mSyntaxError\u001b[0m\u001b[0;31m:\u001b[0m invalid syntax\n"
     ]
    }
   ],
   "source": [
    "def method(string : str, typeof : type) -> int\n"
   ]
  },
  {
   "cell_type": "code",
   "execution_count": null,
   "id": "sharp-coast",
   "metadata": {},
   "outputs": [],
   "source": [
    "method(\"string\", typeof='str')"
   ]
  }
 ],
 "metadata": {
  "kernelspec": {
   "display_name": "Python 3",
   "language": "python",
   "name": "python3"
  },
  "language_info": {
   "codemirror_mode": {
    "name": "ipython",
    "version": 3
   },
   "file_extension": ".py",
   "mimetype": "text/x-python",
   "name": "python",
   "nbconvert_exporter": "python",
   "pygments_lexer": "ipython3",
   "version": "3.7.0"
  }
 },
 "nbformat": 4,
 "nbformat_minor": 5
}
