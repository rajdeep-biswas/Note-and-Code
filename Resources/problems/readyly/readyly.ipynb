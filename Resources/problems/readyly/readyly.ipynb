{
 "cells": [
  {
   "cell_type": "markdown",
   "id": "450c193a",
   "metadata": {},
   "source": [
    "Given a list of integers, return the largest product that can be made by multiplying any three integers.\n",
    "Function Signature:\n",
    "Copy code\n",
    "def maximum_product(nums: List[int]) -> int: pass\n",
    "Input:\n",
    "nums : a list of n (3 <= n <= 10^5) integers nums[i] (-10^5 <= nums[i] <= 10^5)\n",
    "Output:\n",
    "return an integer , the maximum product that can be made by multiplying any three integers.\n",
    "Example:\n",
    "assert maximum_product([-10, -10, 5, 2]) == 500\n",
    "assert maximum_product([1, 2, 3, 4]) == 24\n",
    "assert maximum_product([-1, -2, -3, -4]) == -6"
   ]
  },
  {
   "cell_type": "code",
   "execution_count": 20,
   "id": "47dbc7a5",
   "metadata": {},
   "outputs": [],
   "source": [
    "def maximum_product(nums: list[int]) -> int:\n",
    "    sorted_nums = sorted(nums)\n",
    "    largest_positive = sorted_nums[-3:]\n",
    "    largest_negative = sorted_nums[:2] + [sorted_nums[-1]]\n",
    "    \n",
    "    multiple_1 = 1\n",
    "    for item in largest_positive:\n",
    "        multiple_1 *= item\n",
    "    multiple_2 = 1\n",
    "    for item in largest_negative:\n",
    "        multiple_2 *= item\n",
    "    \n",
    "    print(max(multiple_1, multiple_2))"
   ]
  },
  {
   "cell_type": "code",
   "execution_count": 23,
   "id": "3b9dcde0",
   "metadata": {},
   "outputs": [
    {
     "name": "stdout",
     "output_type": "stream",
     "text": [
      "-6\n"
     ]
    }
   ],
   "source": [
    "maximum_product([-1, -2, -3, -4])"
   ]
  },
  {
   "cell_type": "markdown",
   "id": "e5f1e582",
   "metadata": {},
   "source": [
    "Given a list of words and a string pattern, return a list of all words in the list that matches the pattern.\n",
    "words = ['apple', ‘aaple’,'banana', 'cherry', 'date', 'grape', 'lemon', ‘ample’,’maple’]\n",
    "pattern = a?ple  #  should match 'apple', ‘aaple’ and 'ample'  // ^a.ple$\n",
    "Pattern *a*ple -> apple, aaple, maple, ample => “^.*a.*ple$”\n",
    "Pattern *a*p*e -> apple, aaple, maple, ample and grape => “^.*a.*p.*e$”"
   ]
  },
  {
   "cell_type": "code",
   "execution_count": 25,
   "id": "f084723b",
   "metadata": {},
   "outputs": [],
   "source": [
    "def pattern_matcher(input_string: list[str], pattern: str) -> list[str]:\n",
    "    pass"
   ]
  },
  {
   "cell_type": "code",
   "execution_count": 46,
   "id": "eb3a95c4",
   "metadata": {},
   "outputs": [
    {
     "name": "stdout",
     "output_type": "stream",
     "text": [
      "False\n"
     ]
    }
   ],
   "source": [
    "st = \"applee\"\n",
    "pattern = \"a?ple\"\n",
    "\n",
    "matched = True\n",
    "\n",
    "if '*' not in pattern:\n",
    "    if len(st) != len(pattern):\n",
    "        matched = False\n",
    "    for i in range(len(pattern)):\n",
    "        if pattern[i] == '?':\n",
    "            pass\n",
    "        elif st[i] != pattern[i]:\n",
    "            matched = False\n",
    "    # return matched\n",
    "else:\n",
    "    st = \"aapple\"\n",
    "    res = []\n",
    "\n",
    "    for letter in st:\n",
    "        if not res or res[-1] != letter:\n",
    "            res.append(letter)\n",
    "\n",
    "    print(''.join(res))\n",
    "\n",
    "\n",
    "print(matched)"
   ]
  },
  {
   "cell_type": "code",
   "execution_count": 43,
   "id": "9e221177",
   "metadata": {},
   "outputs": [
    {
     "name": "stdout",
     "output_type": "stream",
     "text": [
      "aple\n"
     ]
    }
   ],
   "source": [
    "st = \"aapple\"\n",
    "res = \"\"\n",
    "\n",
    "for letter in st:\n",
    "    if res[-1]"
   ]
  },
  {
   "cell_type": "code",
   "execution_count": 47,
   "id": "c8a8e3be",
   "metadata": {},
   "outputs": [
    {
     "name": "stdout",
     "output_type": "stream",
     "text": [
      "aple\n"
     ]
    }
   ],
   "source": [
    "st = \"aapple\"\n",
    "res = []\n",
    "\n",
    "for letter in st:\n",
    "    if not res or res[-1] != letter:\n",
    "        res.append(letter)\n",
    "\n",
    "print(''.join(res))"
   ]
  },
  {
   "cell_type": "code",
   "execution_count": 49,
   "id": "f7a8ccf1",
   "metadata": {},
   "outputs": [
    {
     "data": {
      "text/plain": [
       "['', 'a', 'ple']"
      ]
     },
     "execution_count": 49,
     "metadata": {},
     "output_type": "execute_result"
    }
   ],
   "source": [
    "pattern = \"*a*ple\".split(\"*\")\n",
    "pattern"
   ]
  },
  {
   "cell_type": "markdown",
   "id": "df79842a",
   "metadata": {},
   "source": [
    "Problem 4\n",
    "Write a function to crush candy in one dimensional board. In candy crushing games, groups of like items are removed from the board. In this problem, any sequence of 3 or more like items should be removed and any items adjacent to that sequence should now be considered adjacent to each other. This process should be repeated as many time as possible. You should greedily remove characters from left to right.\n",
    "Example 1:\n",
    "Input: \"aaabbbc\"\n",
    "Output: \"c\"\n",
    "Explanation:\n",
    "1. Remove 3 'a': \"aaabbbbc\" => \"bbbbc\"\n",
    "2. Remove 4 'b': \"bbbbc\" => \"c\"\n",
    "\n",
    "\n",
    "Example 2:\n",
    "Input: \"aabbbacd\"\n",
    "Output: \"cd\"\n",
    "Explanation:\n",
    "1. Remove 3 'b': \"aabbbacd\" => \"aaacd\"\n",
    "2. Remove 3 'a': \"aaacd\" => \"cd\"\n",
    "\n",
    "\n",
    "Example 3:\n",
    "Input: \"aabbccddeeedcba\"\n",
    "Output: \"\"\n",
    "Explanation:\n",
    "1. Remove 3 'e': \"aabbccddeeedcba\" => \"aabbccdddcba\"\n",
    "2. Remove 3 'd': \"aabbccdddcba\" => \"aabbcccba\"\n",
    "3. Remove 3 'c': \"aabbcccba\" => \"aabbba\"\n",
    "4. Remove 3 'b': \"aabbba\" => \"aaa\"\n",
    "5. Remove 3 'a': \"aaa\" => \"\"\n",
    "\n",
    "\n",
    "Example 4:\n",
    "Input: \"aaabbbacd\"\n",
    "Output: \"acd\"\n",
    "Explanation:\n",
    "1. Remove 3 'a': \"aaabbbac"
   ]
  },
  {
   "cell_type": "code",
   "execution_count": 135,
   "id": "46852477",
   "metadata": {},
   "outputs": [
    {
     "name": "stdout",
     "output_type": "stream",
     "text": [
      "res: acd\n"
     ]
    }
   ],
   "source": [
    "def reduce_string(st: str) -> str:\n",
    "    res = [st[0]]\n",
    "    count = 1\n",
    "    last_letter = st[0]\n",
    "    for letter in st[1:]:\n",
    "        if count >= 3 and letter != last_letter:\n",
    "            res = res[:-count]\n",
    "            count = 1\n",
    "            res.append(letter)\n",
    "        elif letter == last_letter:\n",
    "            count += 1\n",
    "            res.append(letter)\n",
    "        else:\n",
    "            res.append(letter)\n",
    "            count = 1\n",
    "        last_letter = letter\n",
    "    return ''.join(res)\n",
    "\n",
    "def crush_candy(st: str) -> str:\n",
    "    while True:\n",
    "        st_old = st\n",
    "        st = reduce_string(st)\n",
    "        if st == st_old:\n",
    "            break\n",
    "\n",
    "    while len(st) >= 3 and st[-3] == st[-2] == st[-1]:\n",
    "        st = st[:-3]\n",
    "    return st\n",
    "\n",
    "print(\"res:\", crush_candy(tests[3]))"
   ]
  },
  {
   "cell_type": "code",
   "execution_count": 130,
   "id": "bca8484a",
   "metadata": {},
   "outputs": [],
   "source": [
    "tests = [\"aaabbbc\", \"aabbbacd\", \"aabbccddeeedcba\", \"aaabbbacd\"]"
   ]
  },
  {
   "cell_type": "code",
   "execution_count": 62,
   "id": "0bdcb642",
   "metadata": {},
   "outputs": [
    {
     "name": "stdout",
     "output_type": "stream",
     "text": [
      "['a', 'a']\n",
      "['a', 'a', 'b']\n",
      "['a', 'a', 'b', 'b']\n",
      "['a', 'a', 'b', 'b', 'b']\n",
      "['a', 'a', 'a']\n",
      "['a', 'a', 'a', 'c']\n",
      "['a', 'a', 'a', 'c', 'd']\n"
     ]
    }
   ],
   "source": [
    "st = \"aabbbacd\"\n",
    "res = [st[0]]\n",
    "\n",
    "count = 1\n",
    "last_letter = st[0]\n",
    "\n",
    "for letter in st[1:]:\n",
    "    if count >= 3 and letter != last_letter:\n",
    "        res = res[:-3]\n",
    "        count = 1\n",
    "        res.append(letter)\n",
    "    elif letter == last_letter:\n",
    "        count += 1\n",
    "        res.append(letter)\n",
    "    else:\n",
    "        res.append(letter)\n",
    "    last_letter = letter\n",
    "    print(res)\n",
    "\n",
    "return ''.join(res)"
   ]
  },
  {
   "cell_type": "markdown",
   "id": "7f7bc26d",
   "metadata": {},
   "source": [
    "### If there are multiple approaches, deleting which 3+ first would be _more_ optimal?"
   ]
  },
  {
   "cell_type": "code",
   "execution_count": null,
   "id": "43a9f1d7",
   "metadata": {},
   "outputs": [],
   "source": []
  }
 ],
 "metadata": {
  "kernelspec": {
   "display_name": "Python 3 (ipykernel)",
   "language": "python",
   "name": "python3"
  },
  "language_info": {
   "codemirror_mode": {
    "name": "ipython",
    "version": 3
   },
   "file_extension": ".py",
   "mimetype": "text/x-python",
   "name": "python",
   "nbconvert_exporter": "python",
   "pygments_lexer": "ipython3",
   "version": "3.10.6"
  }
 },
 "nbformat": 4,
 "nbformat_minor": 5
}
