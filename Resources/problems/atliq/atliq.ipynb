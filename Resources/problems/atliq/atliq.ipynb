{
  "nbformat": 4,
  "nbformat_minor": 0,
  "metadata": {
    "colab": {
      "provenance": []
    },
    "kernelspec": {
      "name": "python3",
      "display_name": "Python 3"
    },
    "language_info": {
      "name": "python"
    }
  },
  "cells": [
    {
      "cell_type": "code",
      "execution_count": 1,
      "metadata": {
        "colab": {
          "base_uri": "https://localhost:8080/",
          "height": 71
        },
        "id": "jLqEiw1U4jxx",
        "outputId": "89348fab-bf9e-4831-a69d-b1ee54bf523c"
      },
      "outputs": [
        {
          "output_type": "execute_result",
          "data": {
            "text/plain": [
              "'\\nLoan_ID: A unique loan ID.\\nGender: Either male or female.\\nMarried: Weather Married(yes) or Not Marttied(No).\\nDependents: Number of persons depending on the client.\\nEducation: Applicant Education(Graduate or Undergraduate).\\nSelf_Employed: Self-employed (Yes/No).\\nApplicantIncome: Applicant income.\\nCoapplicantIncome: Co-applicant income.\\nLoanAmount: Loan amount in thousands.\\nLoan_Amount_Term: Terms of the loan in months.\\nCredit_History: Credit history meets guidelines.\\nProperty_Area: Applicants are living either Urban, Semi-Urban or Rural.\\nLoan_Status: Loan approved (Y/N).\\n'"
            ],
            "application/vnd.google.colaboratory.intrinsic+json": {
              "type": "string"
            }
          },
          "metadata": {},
          "execution_count": 1
        }
      ],
      "source": [
        "\"\"\"\n",
        "Loan_ID: A unique loan ID.\n",
        "Gender: Either male or female.\n",
        "Married: Weather Married(yes) or Not Married(No).\n",
        "Dependents: Number of persons depending on the client.\n",
        "Education: Applicant Education(Graduate or Undergraduate).\n",
        "Self_Employed: Self-employed (Yes/No).\n",
        "ApplicantIncome: Applicant income.\n",
        "CoapplicantIncome: Co-applicant income.\n",
        "LoanAmount: Loan amount in thousands.\n",
        "Loan_Amount_Term: Terms of the loan in months.\n",
        "Credit_History: Credit history meets guidelines.\n",
        "Property_Area: Applicants are living either Urban, Semi-Urban or Rural.\n",
        "\n",
        "Loan_Status: Loan approved (Y/N). # target variable\n",
        "\"\"\""
      ]
    },
    {
      "cell_type": "code",
      "source": [
        "df[df['Gender'] == 'M']['LoanAmount'].mean()"
      ],
      "metadata": {
        "id": "VRGZBpew5Eb0"
      },
      "execution_count": null,
      "outputs": []
    },
    {
      "cell_type": "code",
      "source": [
        "# Property_Area wise median value of Income\n",
        "# Property_Area wise max value of loan\n",
        "# median of income and max of loan amount\n",
        "\n",
        "\"\"\"\n",
        "property_Type max\n",
        "urb\n",
        "se\n",
        "ru\n",
        "\"\"\"\n",
        "\n",
        "df[df.group_by('Property_Area')]['ApplicantIncome'].median()"
      ],
      "metadata": {
        "id": "hlc24Xg-5knO"
      },
      "execution_count": null,
      "outputs": []
    },
    {
      "cell_type": "code",
      "source": [
        "# create a new column which is percentage of loanamount to annual_income\n",
        "\n",
        "\n",
        "def getPercentage(loanamount, annual_income):\n",
        "    return loanamount / annual_income\n",
        "\n",
        "df['percentage'] =  df.apply(getPercentage, df[['loanamount', 'annual_income'])"
      ],
      "metadata": {
        "id": "vt4Vf4747EX5"
      },
      "execution_count": null,
      "outputs": []
    },
    {
      "cell_type": "code",
      "source": [
        "SELECT candidate_id FROM (SELECT * tablename WHERE skill in ('Python', 'Tableau', 'PostgreSQL')) agg=GROUPBY(COUNT) candidate_id WHERE agg = 3;"
      ],
      "metadata": {
        "id": "z9rejPrV7sXo"
      },
      "execution_count": null,
      "outputs": []
    },
    {
      "cell_type": "markdown",
      "source": [],
      "metadata": {
        "id": "rTL44D0LAPzx"
      }
    },
    {
      "cell_type": "code",
      "source": [
        "# for 2023, get max prices for each category\n",
        "\n",
        "SELECT MAX(spend) FROM tablename WHERE transaction_date[5:10] = '2023' GROUPBY category;"
      ],
      "metadata": {
        "id": "sVOyvrz8-HPS"
      },
      "execution_count": null,
      "outputs": []
    }
  ]
}